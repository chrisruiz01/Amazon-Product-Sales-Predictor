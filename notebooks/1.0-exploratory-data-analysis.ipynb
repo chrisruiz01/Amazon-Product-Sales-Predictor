{
 "cells": [
  {
   "cell_type": "markdown",
   "id": "81b7abcc",
   "metadata": {},
   "source": [
    "# Exploratory Data Analysis (EDA)\n",
    "Understanding the dataset's basic properties, distribution of variables, missing values, and potential correlations."
   ]
  },
  {
   "cell_type": "markdown",
   "id": "cca9875c",
   "metadata": {},
   "source": [
    "## Project: Amazon-Product-Sales-Analysis\n",
    "\n",
    "### Business Context: \n",
    "\n",
    "Amazon’s business model is based on three value propositions: low price, fast delivery, and a wide selection of products. (businessmodelanalyst.com/amazon-business-model/)\n",
    "\n",
    "Amazon makes money through a variety of streams, primarily including:\n",
    "- E-commerce Sales: This is Amazon's core business model, where they sell products directly to consumers. They offer a wide range of items, from books and electronics to clothing and groceries.\n",
    "- Third-Party Seller Services: Amazon allows third-party sellers to sell their products on its platform, earning money through commissions, shipping fees, and other related services.\n",
    "\n",
    "The pricing of e-commerce products significantly impacts Amazon's profitability in several ways:\n",
    "\n",
    "- Volume of Sales: Lower prices can lead to higher sales volume. Amazon often uses competitive pricing to attract more customers and increase the number of sales. This is based on the economic principle that demand usually increases as prices decrease. However, this means the profit margin per product might be lower, so Amazon relies on selling a larger volume of products to maintain profitability.\n",
    "\n",
    "### Revised Project Objective:\n",
    "\n",
    "### Original Objective:\n",
    "The initial goal was to evaluate the impact of price discounts on the sales volume of e-commerce products, aiming to understand the effectiveness of discounts on sales.\n",
    "\n",
    "### Updated Objective:\n",
    "The project's focus shifted to leveraging the power of deep learning to predict sales performance. Specifically, the aim was to use the 'title' column to build a Convolutional Neural Network (CNN) capable of predicting the likelihood of a product selling over 100 units. This predictive modeling approach sought to understand and capture the nuanced patterns within product titles that correlate with higher sales volumes, thus providing valuable insights for optimizing product listings for better sales performance.\n",
    "\n",
    "Our dataset includes one month of sales from September 2023 \n",
    "(https://www.kaggle.com/datasets/asaniczka/amazon-products-dataset-2023-1-4m-products)"
   ]
  },
  {
   "cell_type": "markdown",
   "id": "d13f9a12",
   "metadata": {},
   "source": [
    "### Data Description\n",
    "**Dataset** - E-commerce product listings.  \n",
    "**File** - amazon_products.csv  \n",
    "\n",
    "**Features include:**\n",
    "- asin -  Product ID from Amazon. (type - str)\n",
    "- title -  Title of the product. (type - str)\n",
    "- imgUrl -  Url of the product image. (type - str)\n",
    "- productURL -  Url of the product. (type - str)\n",
    "- stars -  Product rating. If 0, no ratings were found. (type - float)\n",
    "- reviews -  Number of reviews. If 0, no reviews were found. (type - int)\n",
    "- price -  Buy now price of the product. If 0, price was unavailable. (type - float, currency -  USD)\n",
    "- listPrice -  Original price of the product before discount. If 0, no list price was found AKA, no discounts. (type - float, currency -  USD)\n",
    "- category_id -  Category identifier. Use the amazon_categories.csv to find the actual category name. (type - int)\n",
    "- isBestSeller -  Whether the product had the Amazon BestSeller status or not. (type - bool)\n",
    "- boughtInLastMonth -  Number of products sold last month according to Amazon. (type -  int)\n",
    "    - This is your key target variable for analyzing sales volume.\n",
    "\n",
    "**File** - amazon_categories.csv (to join for category names)\n",
    "- id -  id of the category. Has a foreign key relationship with \"category_id\" on amazon_products.csv (type - int)\n",
    "- category_name -  Name of the category as on Amazon.com. (type - str)"
   ]
  },
  {
   "cell_type": "markdown",
   "id": "350d0122",
   "metadata": {},
   "source": [
    "### Import Libraries"
   ]
  },
  {
   "cell_type": "code",
   "execution_count": 1,
   "id": "c2a01d3a-3b9d-4914-bc2b-3050105a169c",
   "metadata": {},
   "outputs": [
    {
     "data": {
      "text/html": [
       "<style>.container { width:100% !important; }</style>"
      ],
      "text/plain": [
       "<IPython.core.display.HTML object>"
      ]
     },
     "metadata": {},
     "output_type": "display_data"
    }
   ],
   "source": [
    "import pandas as pd\n",
    "import matplotlib.pyplot as plt\n",
    "import seaborn as sns\n",
    "import numpy as np\n",
    "import matplotlib.ticker as ticker\n",
    "\n",
    "# Settings for better readability\n",
    "pd.set_option('display.max_columns', None)\n",
    "pd.set_option('display.float_format', lambda x: '%.2f' % x)\n",
    "sns.set(style=\"whitegrid\")\n",
    "\n",
    "# To reduce the plot size to not fill too much of the screen\n",
    "plt.rcParams['figure.figsize'] = [6, 4]\n",
    "plt.rcParams['figure.dpi'] = 75\n",
    "\n",
    "# To use full width of screen for output of cells\n",
    "from IPython.display import display, HTML\n",
    "display(HTML(\"<style>.container { width:100% !important; }</style>\"))"
   ]
  },
  {
   "cell_type": "markdown",
   "id": "3e3a8947",
   "metadata": {},
   "source": [
    "### Defining Functions\n",
    "The below functions need to be defined to carry out the EDA"
   ]
  },
  {
   "cell_type": "code",
   "execution_count": 2,
   "id": "071a80a2",
   "metadata": {},
   "outputs": [],
   "source": [
    "# function to plot a boxplot and a histogram along the same scale.\n",
    "\n",
    "def histogram_boxplot(data, feature, figsize=(10, 5), kde=False, bins=None):\n",
    "    \"\"\"\n",
    "    Boxplot and histogram combined\n",
    "\n",
    "    data: dataframe\n",
    "    feature: dataframe column\n",
    "    figsize: size of figure\n",
    "    kde: whether to the show density curve (default False)\n",
    "    bins: number of bins for histogram (default None)\n",
    "    \"\"\"\n",
    "    f2, (ax_box2, ax_hist2) = plt.subplots(\n",
    "        nrows=2,  # Number of rows of the subplot grid= 2\n",
    "        sharex=True,  # x-axis will be shared among all subplots\n",
    "        gridspec_kw={\"height_ratios\": (0.25, 0.75)},\n",
    "        figsize=figsize,\n",
    "    )  # creating the 2 subplots\n",
    "    sns.boxplot(\n",
    "        data=data, x=feature, ax=ax_box2, showmeans=True, color=\"violet\"\n",
    "    )  # boxplot will be created and a triangle will indicate the mean value of the column\n",
    "    sns.histplot(\n",
    "        data=data, x=feature, kde=kde, ax=ax_hist2, bins=bins\n",
    "    ) if bins else sns.histplot(\n",
    "        data=data, x=feature, kde=kde, ax=ax_hist2\n",
    "    )  # For histogram\n",
    "    ax_hist2.axvline(\n",
    "        data[feature].mean(), color=\"green\", linestyle=\"--\"\n",
    "    )  # Add mean to the histogram\n",
    "    ax_hist2.axvline(\n",
    "        data[feature].median(), color=\"black\", linestyle=\"-\"\n",
    "    )  # Add median to the histogram"
   ]
  },
  {
   "cell_type": "code",
   "execution_count": 3,
   "id": "c02193e5",
   "metadata": {},
   "outputs": [],
   "source": [
    "# function to create labeled barplots\n",
    "\n",
    "def labeled_barplot(data, feature, perc=False, n=None):\n",
    "    \"\"\"\n",
    "    Barplot with percentage at the top\n",
    "\n",
    "    data: dataframe\n",
    "    feature: dataframe column\n",
    "    perc: whether to display percentages instead of count (default is False)\n",
    "    n: displays the top n category levels (default is None, i.e., display all levels)\n",
    "    \"\"\"\n",
    "    total = len(data[feature])  # length of the column\n",
    "    count = data[feature].nunique()\n",
    "    if n is None:\n",
    "        plt.figure(figsize=(count + 2, 6))\n",
    "    else:\n",
    "        plt.figure(figsize=(n + 2, 6))\n",
    "\n",
    "    plt.xticks(rotation=90, fontsize=15)\n",
    "    palette = sns.color_palette(\"deep\")[0]  # This gives the first color of the 'deep' palette which is a blue\n",
    "    ax = sns.countplot(\n",
    "        data=data,\n",
    "        x=feature,\n",
    "        color=palette,\n",
    "#         palette=\"Paired\",\n",
    "        order=data[feature].value_counts().index[:n],\n",
    "    )\n",
    "\n",
    "    for p in ax.patches:\n",
    "        if perc == True:\n",
    "            label = \"{:.1f}%\".format(\n",
    "                100 * p.get_height() / total\n",
    "            )  # percentage of each class of the category\n",
    "        else:\n",
    "            label = p.get_height()  # count of each level of the category\n",
    "\n",
    "        x = p.get_x() + p.get_width() / 2  # width of the plot\n",
    "        y = p.get_height()  # height of the plot\n",
    "\n",
    "        ax.annotate(\n",
    "            label,\n",
    "            (x, y),\n",
    "            ha=\"center\",\n",
    "            va=\"center\",\n",
    "            size=12,\n",
    "            xytext=(0, 5),\n",
    "            textcoords=\"offset points\",\n",
    "        )  # annotate the percentage\n",
    "\n",
    "    plt.show()  # show the plot"
   ]
  },
  {
   "cell_type": "markdown",
   "id": "898b155f",
   "metadata": {},
   "source": [
    "### Load Dataset"
   ]
  },
  {
   "cell_type": "code",
   "execution_count": 4,
   "id": "e9c9d662",
   "metadata": {},
   "outputs": [],
   "source": [
    "products = pd.read_csv(\"../data/amazon_products.csv\")\n",
    "categories = pd.read_csv(\"../data/amazon_categories.csv\")"
   ]
  },
  {
   "cell_type": "markdown",
   "id": "3555132e",
   "metadata": {},
   "source": [
    "### Looking at first row of each dataframe to check if category IDs look good to join on"
   ]
  },
  {
   "cell_type": "code",
   "execution_count": 5,
   "id": "68ca092b",
   "metadata": {},
   "outputs": [
    {
     "data": {
      "text/html": [
       "<div>\n",
       "<style scoped>\n",
       "    .dataframe tbody tr th:only-of-type {\n",
       "        vertical-align: middle;\n",
       "    }\n",
       "\n",
       "    .dataframe tbody tr th {\n",
       "        vertical-align: top;\n",
       "    }\n",
       "\n",
       "    .dataframe thead th {\n",
       "        text-align: right;\n",
       "    }\n",
       "</style>\n",
       "<table border=\"1\" class=\"dataframe\">\n",
       "  <thead>\n",
       "    <tr style=\"text-align: right;\">\n",
       "      <th></th>\n",
       "      <th>asin</th>\n",
       "      <th>title</th>\n",
       "      <th>imgUrl</th>\n",
       "      <th>productURL</th>\n",
       "      <th>stars</th>\n",
       "      <th>reviews</th>\n",
       "      <th>price</th>\n",
       "      <th>listPrice</th>\n",
       "      <th>category_id</th>\n",
       "      <th>isBestSeller</th>\n",
       "      <th>boughtInLastMonth</th>\n",
       "    </tr>\n",
       "  </thead>\n",
       "  <tbody>\n",
       "    <tr>\n",
       "      <th>0</th>\n",
       "      <td>B014TMV5YE</td>\n",
       "      <td>Sion Softside Expandable Roller Luggage, Black...</td>\n",
       "      <td>https://m.media-amazon.com/images/I/815dLQKYIY...</td>\n",
       "      <td>https://www.amazon.com/dp/B014TMV5YE</td>\n",
       "      <td>4.50</td>\n",
       "      <td>0</td>\n",
       "      <td>139.99</td>\n",
       "      <td>0.00</td>\n",
       "      <td>104</td>\n",
       "      <td>False</td>\n",
       "      <td>2000</td>\n",
       "    </tr>\n",
       "  </tbody>\n",
       "</table>\n",
       "</div>"
      ],
      "text/plain": [
       "         asin                                              title  \\\n",
       "0  B014TMV5YE  Sion Softside Expandable Roller Luggage, Black...   \n",
       "\n",
       "                                              imgUrl  \\\n",
       "0  https://m.media-amazon.com/images/I/815dLQKYIY...   \n",
       "\n",
       "                             productURL  stars  reviews  price  listPrice  \\\n",
       "0  https://www.amazon.com/dp/B014TMV5YE   4.50        0 139.99       0.00   \n",
       "\n",
       "   category_id  isBestSeller  boughtInLastMonth  \n",
       "0          104         False               2000  "
      ]
     },
     "execution_count": 5,
     "metadata": {},
     "output_type": "execute_result"
    }
   ],
   "source": [
    "products.head(1)"
   ]
  },
  {
   "cell_type": "markdown",
   "id": "58eca164",
   "metadata": {},
   "source": [
    "- category_id 104 is luggage, so let's filter for that in categories dataframe"
   ]
  },
  {
   "cell_type": "code",
   "execution_count": 6,
   "id": "e4227cb2",
   "metadata": {},
   "outputs": [
    {
     "data": {
      "text/html": [
       "<div>\n",
       "<style scoped>\n",
       "    .dataframe tbody tr th:only-of-type {\n",
       "        vertical-align: middle;\n",
       "    }\n",
       "\n",
       "    .dataframe tbody tr th {\n",
       "        vertical-align: top;\n",
       "    }\n",
       "\n",
       "    .dataframe thead th {\n",
       "        text-align: right;\n",
       "    }\n",
       "</style>\n",
       "<table border=\"1\" class=\"dataframe\">\n",
       "  <thead>\n",
       "    <tr style=\"text-align: right;\">\n",
       "      <th></th>\n",
       "      <th>id</th>\n",
       "      <th>category_name</th>\n",
       "    </tr>\n",
       "  </thead>\n",
       "  <tbody>\n",
       "    <tr>\n",
       "      <th>94</th>\n",
       "      <td>104</td>\n",
       "      <td>Suitcases</td>\n",
       "    </tr>\n",
       "  </tbody>\n",
       "</table>\n",
       "</div>"
      ],
      "text/plain": [
       "     id category_name\n",
       "94  104     Suitcases"
      ]
     },
     "execution_count": 6,
     "metadata": {},
     "output_type": "execute_result"
    }
   ],
   "source": [
    "categories[categories.id == 104].head()"
   ]
  },
  {
   "cell_type": "markdown",
   "id": "0c74d72d",
   "metadata": {},
   "source": [
    "- Let's join and validate that we have the row count"
   ]
  },
  {
   "cell_type": "markdown",
   "id": "46141e6c",
   "metadata": {},
   "source": [
    "### Checking number of rows and columns"
   ]
  },
  {
   "cell_type": "code",
   "execution_count": 7,
   "id": "a7943367",
   "metadata": {},
   "outputs": [
    {
     "name": "stdout",
     "output_type": "stream",
     "text": [
      "(1426337, 11)\n",
      "(248, 2)\n"
     ]
    }
   ],
   "source": [
    "print(products.shape)\n",
    "print(categories.shape)"
   ]
  },
  {
   "cell_type": "markdown",
   "id": "81d9318f",
   "metadata": {},
   "source": [
    "### Use merge to join on IDs"
   ]
  },
  {
   "cell_type": "code",
   "execution_count": 8,
   "id": "5175dc97",
   "metadata": {},
   "outputs": [
    {
     "data": {
      "text/html": [
       "<div>\n",
       "<style scoped>\n",
       "    .dataframe tbody tr th:only-of-type {\n",
       "        vertical-align: middle;\n",
       "    }\n",
       "\n",
       "    .dataframe tbody tr th {\n",
       "        vertical-align: top;\n",
       "    }\n",
       "\n",
       "    .dataframe thead th {\n",
       "        text-align: right;\n",
       "    }\n",
       "</style>\n",
       "<table border=\"1\" class=\"dataframe\">\n",
       "  <thead>\n",
       "    <tr style=\"text-align: right;\">\n",
       "      <th></th>\n",
       "      <th>asin</th>\n",
       "      <th>title</th>\n",
       "      <th>imgUrl</th>\n",
       "      <th>productURL</th>\n",
       "      <th>stars</th>\n",
       "      <th>reviews</th>\n",
       "      <th>price</th>\n",
       "      <th>listPrice</th>\n",
       "      <th>category_id</th>\n",
       "      <th>isBestSeller</th>\n",
       "      <th>boughtInLastMonth</th>\n",
       "      <th>id</th>\n",
       "      <th>category_name</th>\n",
       "    </tr>\n",
       "  </thead>\n",
       "  <tbody>\n",
       "    <tr>\n",
       "      <th>0</th>\n",
       "      <td>B014TMV5YE</td>\n",
       "      <td>Sion Softside Expandable Roller Luggage, Black...</td>\n",
       "      <td>https://m.media-amazon.com/images/I/815dLQKYIY...</td>\n",
       "      <td>https://www.amazon.com/dp/B014TMV5YE</td>\n",
       "      <td>4.50</td>\n",
       "      <td>0</td>\n",
       "      <td>139.99</td>\n",
       "      <td>0.00</td>\n",
       "      <td>104</td>\n",
       "      <td>False</td>\n",
       "      <td>2000</td>\n",
       "      <td>104</td>\n",
       "      <td>Suitcases</td>\n",
       "    </tr>\n",
       "    <tr>\n",
       "      <th>1</th>\n",
       "      <td>B07GDLCQXV</td>\n",
       "      <td>Luggage Sets Expandable PC+ABS Durable Suitcas...</td>\n",
       "      <td>https://m.media-amazon.com/images/I/81bQlm7vf6...</td>\n",
       "      <td>https://www.amazon.com/dp/B07GDLCQXV</td>\n",
       "      <td>4.50</td>\n",
       "      <td>0</td>\n",
       "      <td>169.99</td>\n",
       "      <td>209.99</td>\n",
       "      <td>104</td>\n",
       "      <td>False</td>\n",
       "      <td>1000</td>\n",
       "      <td>104</td>\n",
       "      <td>Suitcases</td>\n",
       "    </tr>\n",
       "    <tr>\n",
       "      <th>2</th>\n",
       "      <td>B07XSCCZYG</td>\n",
       "      <td>Platinum Elite Softside Expandable Checked Lug...</td>\n",
       "      <td>https://m.media-amazon.com/images/I/71EA35zvJB...</td>\n",
       "      <td>https://www.amazon.com/dp/B07XSCCZYG</td>\n",
       "      <td>4.60</td>\n",
       "      <td>0</td>\n",
       "      <td>365.49</td>\n",
       "      <td>429.99</td>\n",
       "      <td>104</td>\n",
       "      <td>False</td>\n",
       "      <td>300</td>\n",
       "      <td>104</td>\n",
       "      <td>Suitcases</td>\n",
       "    </tr>\n",
       "    <tr>\n",
       "      <th>3</th>\n",
       "      <td>B08MVFKGJM</td>\n",
       "      <td>Freeform Hardside Expandable with Double Spinn...</td>\n",
       "      <td>https://m.media-amazon.com/images/I/91k6NYLQyI...</td>\n",
       "      <td>https://www.amazon.com/dp/B08MVFKGJM</td>\n",
       "      <td>4.60</td>\n",
       "      <td>0</td>\n",
       "      <td>291.59</td>\n",
       "      <td>354.37</td>\n",
       "      <td>104</td>\n",
       "      <td>False</td>\n",
       "      <td>400</td>\n",
       "      <td>104</td>\n",
       "      <td>Suitcases</td>\n",
       "    </tr>\n",
       "    <tr>\n",
       "      <th>4</th>\n",
       "      <td>B01DJLKZBA</td>\n",
       "      <td>Winfield 2 Hardside Expandable Luggage with Sp...</td>\n",
       "      <td>https://m.media-amazon.com/images/I/61NJoaZcP9...</td>\n",
       "      <td>https://www.amazon.com/dp/B01DJLKZBA</td>\n",
       "      <td>4.50</td>\n",
       "      <td>0</td>\n",
       "      <td>174.99</td>\n",
       "      <td>309.99</td>\n",
       "      <td>104</td>\n",
       "      <td>False</td>\n",
       "      <td>400</td>\n",
       "      <td>104</td>\n",
       "      <td>Suitcases</td>\n",
       "    </tr>\n",
       "  </tbody>\n",
       "</table>\n",
       "</div>"
      ],
      "text/plain": [
       "         asin                                              title  \\\n",
       "0  B014TMV5YE  Sion Softside Expandable Roller Luggage, Black...   \n",
       "1  B07GDLCQXV  Luggage Sets Expandable PC+ABS Durable Suitcas...   \n",
       "2  B07XSCCZYG  Platinum Elite Softside Expandable Checked Lug...   \n",
       "3  B08MVFKGJM  Freeform Hardside Expandable with Double Spinn...   \n",
       "4  B01DJLKZBA  Winfield 2 Hardside Expandable Luggage with Sp...   \n",
       "\n",
       "                                              imgUrl  \\\n",
       "0  https://m.media-amazon.com/images/I/815dLQKYIY...   \n",
       "1  https://m.media-amazon.com/images/I/81bQlm7vf6...   \n",
       "2  https://m.media-amazon.com/images/I/71EA35zvJB...   \n",
       "3  https://m.media-amazon.com/images/I/91k6NYLQyI...   \n",
       "4  https://m.media-amazon.com/images/I/61NJoaZcP9...   \n",
       "\n",
       "                             productURL  stars  reviews  price  listPrice  \\\n",
       "0  https://www.amazon.com/dp/B014TMV5YE   4.50        0 139.99       0.00   \n",
       "1  https://www.amazon.com/dp/B07GDLCQXV   4.50        0 169.99     209.99   \n",
       "2  https://www.amazon.com/dp/B07XSCCZYG   4.60        0 365.49     429.99   \n",
       "3  https://www.amazon.com/dp/B08MVFKGJM   4.60        0 291.59     354.37   \n",
       "4  https://www.amazon.com/dp/B01DJLKZBA   4.50        0 174.99     309.99   \n",
       "\n",
       "   category_id  isBestSeller  boughtInLastMonth   id category_name  \n",
       "0          104         False               2000  104     Suitcases  \n",
       "1          104         False               1000  104     Suitcases  \n",
       "2          104         False                300  104     Suitcases  \n",
       "3          104         False                400  104     Suitcases  \n",
       "4          104         False                400  104     Suitcases  "
      ]
     },
     "execution_count": 8,
     "metadata": {},
     "output_type": "execute_result"
    }
   ],
   "source": [
    "data = products.merge(categories, left_on='category_id', right_on='id')\n",
    "data.head()"
   ]
  },
  {
   "cell_type": "markdown",
   "id": "93c3c695",
   "metadata": {},
   "source": [
    "- Same number of records checks out\n",
    "- We have the cateory_name now, so we can drop the ID columns which are just identifiers\n",
    "\n",
    "- If each record is a unique product, then the data appears to be aggregated at monthly units for each product"
   ]
  },
  {
   "cell_type": "code",
   "execution_count": 9,
   "id": "93de0816",
   "metadata": {},
   "outputs": [],
   "source": [
    "# Create a copy of the dataset to preserve the original\n",
    "df = data.drop(columns=['category_id','id'], axis=1).copy()"
   ]
  },
  {
   "cell_type": "markdown",
   "id": "f1d35791",
   "metadata": {},
   "source": [
    "**We know that 'boughtInLastMonth' is quanity sold, so let's rename to 'units' to make the feature name more clear**"
   ]
  },
  {
   "cell_type": "code",
   "execution_count": 10,
   "id": "f8a470af",
   "metadata": {},
   "outputs": [],
   "source": [
    "df.rename(columns={'boughtInLastMonth': 'units'}, inplace=True)"
   ]
  },
  {
   "cell_type": "markdown",
   "id": "92193c42",
   "metadata": {},
   "source": [
    "**For consistency, let's also lowercase all feature names and switch from camelCase to underscores**"
   ]
  },
  {
   "cell_type": "code",
   "execution_count": 11,
   "id": "d343e7fc",
   "metadata": {},
   "outputs": [
    {
     "data": {
      "text/plain": [
       "Index(['asin', 'title', 'imgurl', 'producturl', 'stars', 'reviews', 'price',\n",
       "       'listprice', 'isbestseller', 'units', 'category_name'],\n",
       "      dtype='object')"
      ]
     },
     "execution_count": 11,
     "metadata": {},
     "output_type": "execute_result"
    }
   ],
   "source": [
    "df.columns = df.columns.str.lower()\n",
    "df.columns"
   ]
  },
  {
   "cell_type": "code",
   "execution_count": 12,
   "id": "21a93d6b",
   "metadata": {},
   "outputs": [
    {
     "data": {
      "text/plain": [
       "Index(['asin', 'title', 'img_url', 'product_url', 'stars', 'reviews', 'price',\n",
       "       'list_price', 'is_best_seller', 'units', 'category_name'],\n",
       "      dtype='object')"
      ]
     },
     "execution_count": 12,
     "metadata": {},
     "output_type": "execute_result"
    }
   ],
   "source": [
    "df.rename(columns={'imgurl': 'img_url', 'producturl': 'product_url', 'listprice': 'list_price', 'isbestseller': 'is_best_seller'}, inplace=True)\n",
    "df.columns"
   ]
  },
  {
   "cell_type": "markdown",
   "id": "f14d9059",
   "metadata": {},
   "source": [
    "**Peeking at the revised dataframe**"
   ]
  },
  {
   "cell_type": "code",
   "execution_count": 13,
   "id": "fd869a18",
   "metadata": {},
   "outputs": [
    {
     "data": {
      "text/html": [
       "<div>\n",
       "<style scoped>\n",
       "    .dataframe tbody tr th:only-of-type {\n",
       "        vertical-align: middle;\n",
       "    }\n",
       "\n",
       "    .dataframe tbody tr th {\n",
       "        vertical-align: top;\n",
       "    }\n",
       "\n",
       "    .dataframe thead th {\n",
       "        text-align: right;\n",
       "    }\n",
       "</style>\n",
       "<table border=\"1\" class=\"dataframe\">\n",
       "  <thead>\n",
       "    <tr style=\"text-align: right;\">\n",
       "      <th></th>\n",
       "      <th>asin</th>\n",
       "      <th>title</th>\n",
       "      <th>img_url</th>\n",
       "      <th>product_url</th>\n",
       "      <th>stars</th>\n",
       "      <th>reviews</th>\n",
       "      <th>price</th>\n",
       "      <th>list_price</th>\n",
       "      <th>is_best_seller</th>\n",
       "      <th>units</th>\n",
       "      <th>category_name</th>\n",
       "    </tr>\n",
       "  </thead>\n",
       "  <tbody>\n",
       "    <tr>\n",
       "      <th>0</th>\n",
       "      <td>B014TMV5YE</td>\n",
       "      <td>Sion Softside Expandable Roller Luggage, Black...</td>\n",
       "      <td>https://m.media-amazon.com/images/I/815dLQKYIY...</td>\n",
       "      <td>https://www.amazon.com/dp/B014TMV5YE</td>\n",
       "      <td>4.50</td>\n",
       "      <td>0</td>\n",
       "      <td>139.99</td>\n",
       "      <td>0.00</td>\n",
       "      <td>False</td>\n",
       "      <td>2000</td>\n",
       "      <td>Suitcases</td>\n",
       "    </tr>\n",
       "    <tr>\n",
       "      <th>1</th>\n",
       "      <td>B07GDLCQXV</td>\n",
       "      <td>Luggage Sets Expandable PC+ABS Durable Suitcas...</td>\n",
       "      <td>https://m.media-amazon.com/images/I/81bQlm7vf6...</td>\n",
       "      <td>https://www.amazon.com/dp/B07GDLCQXV</td>\n",
       "      <td>4.50</td>\n",
       "      <td>0</td>\n",
       "      <td>169.99</td>\n",
       "      <td>209.99</td>\n",
       "      <td>False</td>\n",
       "      <td>1000</td>\n",
       "      <td>Suitcases</td>\n",
       "    </tr>\n",
       "    <tr>\n",
       "      <th>2</th>\n",
       "      <td>B07XSCCZYG</td>\n",
       "      <td>Platinum Elite Softside Expandable Checked Lug...</td>\n",
       "      <td>https://m.media-amazon.com/images/I/71EA35zvJB...</td>\n",
       "      <td>https://www.amazon.com/dp/B07XSCCZYG</td>\n",
       "      <td>4.60</td>\n",
       "      <td>0</td>\n",
       "      <td>365.49</td>\n",
       "      <td>429.99</td>\n",
       "      <td>False</td>\n",
       "      <td>300</td>\n",
       "      <td>Suitcases</td>\n",
       "    </tr>\n",
       "    <tr>\n",
       "      <th>3</th>\n",
       "      <td>B08MVFKGJM</td>\n",
       "      <td>Freeform Hardside Expandable with Double Spinn...</td>\n",
       "      <td>https://m.media-amazon.com/images/I/91k6NYLQyI...</td>\n",
       "      <td>https://www.amazon.com/dp/B08MVFKGJM</td>\n",
       "      <td>4.60</td>\n",
       "      <td>0</td>\n",
       "      <td>291.59</td>\n",
       "      <td>354.37</td>\n",
       "      <td>False</td>\n",
       "      <td>400</td>\n",
       "      <td>Suitcases</td>\n",
       "    </tr>\n",
       "    <tr>\n",
       "      <th>4</th>\n",
       "      <td>B01DJLKZBA</td>\n",
       "      <td>Winfield 2 Hardside Expandable Luggage with Sp...</td>\n",
       "      <td>https://m.media-amazon.com/images/I/61NJoaZcP9...</td>\n",
       "      <td>https://www.amazon.com/dp/B01DJLKZBA</td>\n",
       "      <td>4.50</td>\n",
       "      <td>0</td>\n",
       "      <td>174.99</td>\n",
       "      <td>309.99</td>\n",
       "      <td>False</td>\n",
       "      <td>400</td>\n",
       "      <td>Suitcases</td>\n",
       "    </tr>\n",
       "  </tbody>\n",
       "</table>\n",
       "</div>"
      ],
      "text/plain": [
       "         asin                                              title  \\\n",
       "0  B014TMV5YE  Sion Softside Expandable Roller Luggage, Black...   \n",
       "1  B07GDLCQXV  Luggage Sets Expandable PC+ABS Durable Suitcas...   \n",
       "2  B07XSCCZYG  Platinum Elite Softside Expandable Checked Lug...   \n",
       "3  B08MVFKGJM  Freeform Hardside Expandable with Double Spinn...   \n",
       "4  B01DJLKZBA  Winfield 2 Hardside Expandable Luggage with Sp...   \n",
       "\n",
       "                                             img_url  \\\n",
       "0  https://m.media-amazon.com/images/I/815dLQKYIY...   \n",
       "1  https://m.media-amazon.com/images/I/81bQlm7vf6...   \n",
       "2  https://m.media-amazon.com/images/I/71EA35zvJB...   \n",
       "3  https://m.media-amazon.com/images/I/91k6NYLQyI...   \n",
       "4  https://m.media-amazon.com/images/I/61NJoaZcP9...   \n",
       "\n",
       "                            product_url  stars  reviews  price  list_price  \\\n",
       "0  https://www.amazon.com/dp/B014TMV5YE   4.50        0 139.99        0.00   \n",
       "1  https://www.amazon.com/dp/B07GDLCQXV   4.50        0 169.99      209.99   \n",
       "2  https://www.amazon.com/dp/B07XSCCZYG   4.60        0 365.49      429.99   \n",
       "3  https://www.amazon.com/dp/B08MVFKGJM   4.60        0 291.59      354.37   \n",
       "4  https://www.amazon.com/dp/B01DJLKZBA   4.50        0 174.99      309.99   \n",
       "\n",
       "   is_best_seller  units category_name  \n",
       "0           False   2000     Suitcases  \n",
       "1           False   1000     Suitcases  \n",
       "2           False    300     Suitcases  \n",
       "3           False    400     Suitcases  \n",
       "4           False    400     Suitcases  "
      ]
     },
     "execution_count": 13,
     "metadata": {},
     "output_type": "execute_result"
    }
   ],
   "source": [
    "# Here's what our dataset looks like now\n",
    "df.head()"
   ]
  },
  {
   "cell_type": "markdown",
   "id": "9787e055",
   "metadata": {},
   "source": [
    "### Checking for duplicate records"
   ]
  },
  {
   "cell_type": "code",
   "execution_count": 14,
   "id": "487dae39",
   "metadata": {},
   "outputs": [
    {
     "data": {
      "text/plain": [
       "0"
      ]
     },
     "execution_count": 14,
     "metadata": {},
     "output_type": "execute_result"
    }
   ],
   "source": [
    "df.duplicated().sum()"
   ]
  },
  {
   "cell_type": "markdown",
   "id": "b89097b1",
   "metadata": {},
   "source": [
    "- No dupes in the dataset"
   ]
  },
  {
   "cell_type": "markdown",
   "id": "9ef5ee3f",
   "metadata": {},
   "source": [
    "### Display data types"
   ]
  },
  {
   "cell_type": "code",
   "execution_count": 15,
   "id": "5c458e9d",
   "metadata": {},
   "outputs": [
    {
     "name": "stdout",
     "output_type": "stream",
     "text": [
      "<class 'pandas.core.frame.DataFrame'>\n",
      "RangeIndex: 1426337 entries, 0 to 1426336\n",
      "Data columns (total 11 columns):\n",
      " #   Column          Non-Null Count    Dtype  \n",
      "---  ------          --------------    -----  \n",
      " 0   asin            1426337 non-null  object \n",
      " 1   title           1426336 non-null  object \n",
      " 2   img_url         1426337 non-null  object \n",
      " 3   product_url     1426337 non-null  object \n",
      " 4   stars           1426337 non-null  float64\n",
      " 5   reviews         1426337 non-null  int64  \n",
      " 6   price           1426337 non-null  float64\n",
      " 7   list_price      1426337 non-null  float64\n",
      " 8   is_best_seller  1426337 non-null  bool   \n",
      " 9   units           1426337 non-null  int64  \n",
      " 10  category_name   1426337 non-null  object \n",
      "dtypes: bool(1), float64(3), int64(2), object(5)\n",
      "memory usage: 110.2+ MB\n"
     ]
    }
   ],
   "source": [
    "df.info()"
   ]
  },
  {
   "cell_type": "markdown",
   "id": "f597439b",
   "metadata": {},
   "source": [
    "- The dataset contains 1 boolean, 5 numeric, and 5 categorical features"
   ]
  },
  {
   "cell_type": "markdown",
   "id": "4c61fde9",
   "metadata": {},
   "source": [
    "### Display count of unique values in each feature"
   ]
  },
  {
   "cell_type": "code",
   "execution_count": 16,
   "id": "5e57ca76",
   "metadata": {},
   "outputs": [
    {
     "data": {
      "text/plain": [
       "asin              1426337\n",
       "title             1385430\n",
       "img_url           1372162\n",
       "product_url       1426337\n",
       "stars                  41\n",
       "reviews             11861\n",
       "price               29961\n",
       "list_price          14518\n",
       "is_best_seller          2\n",
       "units                  30\n",
       "category_name         248\n",
       "dtype: int64"
      ]
     },
     "execution_count": 16,
     "metadata": {},
     "output_type": "execute_result"
    }
   ],
   "source": [
    "df.nunique()"
   ]
  },
  {
   "cell_type": "code",
   "execution_count": 17,
   "id": "db42a536",
   "metadata": {},
   "outputs": [],
   "source": [
    "# dropping unique product identifier \n",
    "df.drop(columns=['asin'], axis=1, inplace=True)"
   ]
  },
  {
   "cell_type": "markdown",
   "id": "e4a16858",
   "metadata": {},
   "source": [
    "### Display summary statistics"
   ]
  },
  {
   "cell_type": "markdown",
   "id": "b97ab691",
   "metadata": {},
   "source": [
    "**Numerical variables**"
   ]
  },
  {
   "cell_type": "code",
   "execution_count": 18,
   "id": "139583d0",
   "metadata": {},
   "outputs": [
    {
     "data": {
      "text/html": [
       "<div>\n",
       "<style scoped>\n",
       "    .dataframe tbody tr th:only-of-type {\n",
       "        vertical-align: middle;\n",
       "    }\n",
       "\n",
       "    .dataframe tbody tr th {\n",
       "        vertical-align: top;\n",
       "    }\n",
       "\n",
       "    .dataframe thead th {\n",
       "        text-align: right;\n",
       "    }\n",
       "</style>\n",
       "<table border=\"1\" class=\"dataframe\">\n",
       "  <thead>\n",
       "    <tr style=\"text-align: right;\">\n",
       "      <th></th>\n",
       "      <th>stars</th>\n",
       "      <th>reviews</th>\n",
       "      <th>price</th>\n",
       "      <th>list_price</th>\n",
       "      <th>units</th>\n",
       "    </tr>\n",
       "  </thead>\n",
       "  <tbody>\n",
       "    <tr>\n",
       "      <th>count</th>\n",
       "      <td>1426337.00</td>\n",
       "      <td>1426337.00</td>\n",
       "      <td>1426337.00</td>\n",
       "      <td>1426337.00</td>\n",
       "      <td>1426337.00</td>\n",
       "    </tr>\n",
       "    <tr>\n",
       "      <th>mean</th>\n",
       "      <td>4.00</td>\n",
       "      <td>180.75</td>\n",
       "      <td>43.38</td>\n",
       "      <td>12.45</td>\n",
       "      <td>141.98</td>\n",
       "    </tr>\n",
       "    <tr>\n",
       "      <th>std</th>\n",
       "      <td>1.34</td>\n",
       "      <td>1761.45</td>\n",
       "      <td>130.29</td>\n",
       "      <td>46.11</td>\n",
       "      <td>836.27</td>\n",
       "    </tr>\n",
       "    <tr>\n",
       "      <th>min</th>\n",
       "      <td>0.00</td>\n",
       "      <td>0.00</td>\n",
       "      <td>0.00</td>\n",
       "      <td>0.00</td>\n",
       "      <td>0.00</td>\n",
       "    </tr>\n",
       "    <tr>\n",
       "      <th>25%</th>\n",
       "      <td>4.10</td>\n",
       "      <td>0.00</td>\n",
       "      <td>11.99</td>\n",
       "      <td>0.00</td>\n",
       "      <td>0.00</td>\n",
       "    </tr>\n",
       "    <tr>\n",
       "      <th>50%</th>\n",
       "      <td>4.40</td>\n",
       "      <td>0.00</td>\n",
       "      <td>19.95</td>\n",
       "      <td>0.00</td>\n",
       "      <td>0.00</td>\n",
       "    </tr>\n",
       "    <tr>\n",
       "      <th>75%</th>\n",
       "      <td>4.60</td>\n",
       "      <td>0.00</td>\n",
       "      <td>35.99</td>\n",
       "      <td>0.00</td>\n",
       "      <td>50.00</td>\n",
       "    </tr>\n",
       "    <tr>\n",
       "      <th>max</th>\n",
       "      <td>5.00</td>\n",
       "      <td>346563.00</td>\n",
       "      <td>19731.81</td>\n",
       "      <td>999.99</td>\n",
       "      <td>100000.00</td>\n",
       "    </tr>\n",
       "  </tbody>\n",
       "</table>\n",
       "</div>"
      ],
      "text/plain": [
       "           stars    reviews      price  list_price      units\n",
       "count 1426337.00 1426337.00 1426337.00  1426337.00 1426337.00\n",
       "mean        4.00     180.75      43.38       12.45     141.98\n",
       "std         1.34    1761.45     130.29       46.11     836.27\n",
       "min         0.00       0.00       0.00        0.00       0.00\n",
       "25%         4.10       0.00      11.99        0.00       0.00\n",
       "50%         4.40       0.00      19.95        0.00       0.00\n",
       "75%         4.60       0.00      35.99        0.00      50.00\n",
       "max         5.00  346563.00   19731.81      999.99  100000.00"
      ]
     },
     "execution_count": 18,
     "metadata": {},
     "output_type": "execute_result"
    }
   ],
   "source": [
    "# Numerical variables\n",
    "df.describe().round(2)"
   ]
  },
  {
   "cell_type": "markdown",
   "id": "0a564490",
   "metadata": {},
   "source": [
    "- `stars` - ranges from 0 to 5 (If 0, no ratings were found)\n",
    "- `reviews` - at least 75% of products were not reviewed\n",
    "- `price` - some products were unavailble (if 0, price was unavailable)\n",
    "- `list_price` - at least 75% of products were not discounted (if 0, no discounts, thus the only price available will fall under price; this is also why max price can be higher than max list_price)\n",
    "- `units` - at least 50% of products were not sold (units = 0)   \n",
    "<br>\n",
    "- All but stars have huge outliers on the upper end and highly skewed distributions, which could affect the performance and interpretation of predictive models\n",
    "- Scales are different, we'll have to scale before model building\n",
    "\n",
    "- For univariate visualizations, we will only need to visualize stars, since the others are clearly highly left skewed."
   ]
  },
  {
   "cell_type": "markdown",
   "id": "7f26ef66",
   "metadata": {},
   "source": [
    "**All numerical values have min value of zero, so let's see how many zeros in each**"
   ]
  },
  {
   "cell_type": "code",
   "execution_count": 19,
   "id": "4d3c5a38",
   "metadata": {},
   "outputs": [
    {
     "data": {
      "text/plain": [
       "stars        0.09\n",
       "reviews      0.79\n",
       "price        0.02\n",
       "list_price   0.76\n",
       "units        0.64\n",
       "dtype: float64"
      ]
     },
     "execution_count": 19,
     "metadata": {},
     "output_type": "execute_result"
    }
   ],
   "source": [
    "# Filter for numeric columns only\n",
    "numeric_df = df.select_dtypes(include=[np.number])\n",
    "(numeric_df == 0).sum()/numeric_df.shape[0]"
   ]
  },
  {
   "cell_type": "markdown",
   "id": "f996da9f",
   "metadata": {},
   "source": [
    "- 79% of products have no reviews, while only 9% of products have no star rating\n",
    "- 2% of products were unavailable\n",
    "- 76% of products were not discounted \n",
    "- 64% of products were not sold"
   ]
  },
  {
   "cell_type": "markdown",
   "id": "87661f19",
   "metadata": {},
   "source": [
    "**For the focused objective of understanding sales volume, it's generally advisable to exclude periods when the product was unavailable. This ensures that the analysis is clean, direct, and relevant. Therefore, let's exclude records where price = 0, which we know from the data description**"
   ]
  },
  {
   "cell_type": "raw",
   "id": "38f5ccc3",
   "metadata": {},
   "source": [
    "# Filtering out unavilable products (price = 0 and could not have transacted)\n",
    "df = df[df.price != 0]\n",
    "\n",
    "# Checking the updated shape of the dataset after removing records\n",
    "df.shape"
   ]
  },
  {
   "cell_type": "markdown",
   "id": "39a62864",
   "metadata": {},
   "source": [
    "**Categorical variables**"
   ]
  },
  {
   "cell_type": "code",
   "execution_count": 20,
   "id": "2f242de8",
   "metadata": {},
   "outputs": [
    {
     "data": {
      "text/html": [
       "<div>\n",
       "<style scoped>\n",
       "    .dataframe tbody tr th:only-of-type {\n",
       "        vertical-align: middle;\n",
       "    }\n",
       "\n",
       "    .dataframe tbody tr th {\n",
       "        vertical-align: top;\n",
       "    }\n",
       "\n",
       "    .dataframe thead th {\n",
       "        text-align: right;\n",
       "    }\n",
       "</style>\n",
       "<table border=\"1\" class=\"dataframe\">\n",
       "  <thead>\n",
       "    <tr style=\"text-align: right;\">\n",
       "      <th></th>\n",
       "      <th>count</th>\n",
       "      <th>unique</th>\n",
       "      <th>top</th>\n",
       "      <th>freq</th>\n",
       "    </tr>\n",
       "  </thead>\n",
       "  <tbody>\n",
       "    <tr>\n",
       "      <th>title</th>\n",
       "      <td>1426336</td>\n",
       "      <td>1385430</td>\n",
       "      <td>Men's Sneaker</td>\n",
       "      <td>89</td>\n",
       "    </tr>\n",
       "    <tr>\n",
       "      <th>img_url</th>\n",
       "      <td>1426337</td>\n",
       "      <td>1372162</td>\n",
       "      <td>https://m.media-amazon.com/images/I/01RmK+J4pJ...</td>\n",
       "      <td>1130</td>\n",
       "    </tr>\n",
       "    <tr>\n",
       "      <th>product_url</th>\n",
       "      <td>1426337</td>\n",
       "      <td>1426337</td>\n",
       "      <td>https://www.amazon.com/dp/B014TMV5YE</td>\n",
       "      <td>1</td>\n",
       "    </tr>\n",
       "    <tr>\n",
       "      <th>is_best_seller</th>\n",
       "      <td>1426337</td>\n",
       "      <td>2</td>\n",
       "      <td>False</td>\n",
       "      <td>1417817</td>\n",
       "    </tr>\n",
       "    <tr>\n",
       "      <th>category_name</th>\n",
       "      <td>1426337</td>\n",
       "      <td>248</td>\n",
       "      <td>Girls' Clothing</td>\n",
       "      <td>28619</td>\n",
       "    </tr>\n",
       "  </tbody>\n",
       "</table>\n",
       "</div>"
      ],
      "text/plain": [
       "                  count   unique  \\\n",
       "title           1426336  1385430   \n",
       "img_url         1426337  1372162   \n",
       "product_url     1426337  1426337   \n",
       "is_best_seller  1426337        2   \n",
       "category_name   1426337      248   \n",
       "\n",
       "                                                              top     freq  \n",
       "title                                               Men's Sneaker       89  \n",
       "img_url         https://m.media-amazon.com/images/I/01RmK+J4pJ...     1130  \n",
       "product_url                  https://www.amazon.com/dp/B014TMV5YE        1  \n",
       "is_best_seller                                              False  1417817  \n",
       "category_name                                     Girls' Clothing    28619  "
      ]
     },
     "execution_count": 20,
     "metadata": {},
     "output_type": "execute_result"
    }
   ],
   "source": [
    "# Categorical variables\n",
    "df.describe(exclude=np.number).T"
   ]
  },
  {
   "cell_type": "markdown",
   "id": "55df2815",
   "metadata": {},
   "source": [
    "- **productURL** - we may want to go to these links to investigate further on any products or use the links to potentially web scrape  \n",
    "- **title and imgUrl** have slightly fewer records than the unique identifiers, so a few products must share the same title and imageUrl  \n",
    "- **is_best_seller** only a very small number of products are best sellers\n",
    "\n",
    "**isBestSeller (from chatGPT4)** - \"The definition of a \"bestseller\" on Amazon refers to products that sell in higher quantities than others within a specific category or across the platform over a certain period.\"\n",
    "- **High Sales Volume**: Bestsellers are items that have sold more units than their competitors in a specific category or across the site within a certain timeframe. This is usually the most critical factor in determining a bestseller.\n",
    "- **Category-Specific**: Because bestseller status is typically determined within specific categories (like books, electronics, clothing, etc.), a product can be a bestseller in one category without being a top seller across the entire Amazon platform.\n",
    "- **Ratings and Reviews**: While primarily determined by sales volume, customer ratings and reviews can indirectly affect bestseller status. Highly rated products are more likely to be purchased, thereby increasing sales volume and potentially improving their bestseller rank."
   ]
  },
  {
   "cell_type": "markdown",
   "id": "996efeed",
   "metadata": {},
   "source": [
    "### Checking for missing values"
   ]
  },
  {
   "cell_type": "code",
   "execution_count": 21,
   "id": "00b3dc26",
   "metadata": {},
   "outputs": [
    {
     "data": {
      "text/plain": [
       "title             1\n",
       "img_url           0\n",
       "product_url       0\n",
       "stars             0\n",
       "reviews           0\n",
       "price             0\n",
       "list_price        0\n",
       "is_best_seller    0\n",
       "units             0\n",
       "category_name     0\n",
       "dtype: int64"
      ]
     },
     "execution_count": 21,
     "metadata": {},
     "output_type": "execute_result"
    }
   ],
   "source": [
    "df.isnull().sum()"
   ]
  },
  {
   "cell_type": "markdown",
   "id": "f91a2353",
   "metadata": {},
   "source": [
    "- Only one missing value in 'title' which we'll handle later under feature engineering"
   ]
  },
  {
   "cell_type": "markdown",
   "id": "41e15987",
   "metadata": {},
   "source": [
    "**Let's see how many products did not sell**"
   ]
  },
  {
   "cell_type": "markdown",
   "id": "2a590907",
   "metadata": {},
   "source": [
    "## Data visualizations"
   ]
  },
  {
   "cell_type": "markdown",
   "id": "266c9304",
   "metadata": {},
   "source": [
    "### Univaritate analysis"
   ]
  },
  {
   "cell_type": "markdown",
   "id": "b75967e7",
   "metadata": {},
   "source": [
    "**Numerical**"
   ]
  },
  {
   "cell_type": "code",
   "execution_count": 22,
   "id": "4e967f7d",
   "metadata": {},
   "outputs": [
    {
     "name": "stderr",
     "output_type": "stream",
     "text": [
      "C:\\Users\\chris\\anaconda3\\Lib\\site-packages\\seaborn\\_oldcore.py:1498: FutureWarning: is_categorical_dtype is deprecated and will be removed in a future version. Use isinstance(dtype, CategoricalDtype) instead\n",
      "  if pd.api.types.is_categorical_dtype(vector):\n",
      "C:\\Users\\chris\\anaconda3\\Lib\\site-packages\\seaborn\\_oldcore.py:1498: FutureWarning: is_categorical_dtype is deprecated and will be removed in a future version. Use isinstance(dtype, CategoricalDtype) instead\n",
      "  if pd.api.types.is_categorical_dtype(vector):\n",
      "C:\\Users\\chris\\anaconda3\\Lib\\site-packages\\seaborn\\_oldcore.py:1119: FutureWarning: use_inf_as_na option is deprecated and will be removed in a future version. Convert inf values to NaN before operating instead.\n",
      "  with pd.option_context('mode.use_inf_as_na', True):\n"
     ]
    },
    {
     "data": {
      "image/png": "[encoded data removed]",
      "text/plain": [
       "<Figure size 750x375 with 2 Axes>"
      ]
     },
     "metadata": {},
     "output_type": "display_data"
    }
   ],
   "source": [
    "histogram_boxplot(df, 'stars')"
   ]
  },
  {
   "cell_type": "markdown",
   "id": "b140e282",
   "metadata": {},
   "source": [
    "- More than 75% of products were rated between 4 and 5 stars"
   ]
  },
  {
   "cell_type": "markdown",
   "id": "c1697df0",
   "metadata": {},
   "source": [
    "**Categorical**"
   ]
  },
  {
   "cell_type": "code",
   "execution_count": 23,
   "id": "f5c1ac80",
   "metadata": {},
   "outputs": [
    {
     "name": "stderr",
     "output_type": "stream",
     "text": [
      "C:\\Users\\chris\\anaconda3\\Lib\\site-packages\\seaborn\\_oldcore.py:1498: FutureWarning: is_categorical_dtype is deprecated and will be removed in a future version. Use isinstance(dtype, CategoricalDtype) instead\n",
      "  if pd.api.types.is_categorical_dtype(vector):\n",
      "C:\\Users\\chris\\anaconda3\\Lib\\site-packages\\seaborn\\_oldcore.py:1498: FutureWarning: is_categorical_dtype is deprecated and will be removed in a future version. Use isinstance(dtype, CategoricalDtype) instead\n",
      "  if pd.api.types.is_categorical_dtype(vector):\n"
     ]
    },
    {
     "data": {
      "image/png": "[encoded data removed]",
      "text/plain": [
       "<Figure size 900x450 with 1 Axes>"
      ]
     },
     "metadata": {},
     "output_type": "display_data"
    }
   ],
   "source": [
    "# Most popular categories by count\n",
    "labeled_barplot(df, 'category_name', n=10)"
   ]
  },
  {
   "cell_type": "markdown",
   "id": "3a4b14d9",
   "metadata": {},
   "source": [
    "- The most popular products fall under Girls' and Boys' clothing (top 2), which makes sense as the data is for September when a new school year begins"
   ]
  },
  {
   "cell_type": "markdown",
   "id": "7f07bc16",
   "metadata": {},
   "source": [
    "### Multivaritate analysis"
   ]
  },
  {
   "cell_type": "markdown",
   "id": "d8f95662",
   "metadata": {
    "id": "HhoNokOGTvDA"
   },
   "source": [
    "**Correlation Check**"
   ]
  },
  {
   "cell_type": "code",
   "execution_count": 24,
   "id": "08673b24",
   "metadata": {},
   "outputs": [
    {
     "data": {
      "image/png": "[encoded data removed]",
      "text/plain": [
       "<Figure size 750x600 with 2 Axes>"
      ]
     },
     "metadata": {},
     "output_type": "display_data"
    }
   ],
   "source": [
    "# Select numerical features\n",
    "numerical_features = df.select_dtypes(include=['int64', 'float64'])\n",
    "# Compute the correlation matrix\n",
    "corr_matrix = numerical_features.corr()\n",
    "\n",
    "# Generate a heatmap\n",
    "plt.figure(figsize=(10, 8))\n",
    "sns.heatmap(corr_matrix, annot=True, fmt='.2f', cmap='coolwarm', square=True, vmin=-1)\n",
    "plt.title('Heatmap of Correlation Between Numerical Features')\n",
    "plt.show()"
   ]
  },
  {
   "cell_type": "markdown",
   "id": "5cc7cc1b",
   "metadata": {},
   "source": [
    "None of the independent variables have a high correlation with the target\n",
    "\n",
    "- **Predictive Modeling Implications:** For predictive modeling, features with low correlations to the target variable ('units' in this case) might not be very useful on their own in a linear model. However, they could still be important in non-linear models or could have interaction effects with other variables.\n",
    "\n",
    "In summary, the heatmap suggests that the features included do not have strong linear relationships with each other. We might need to consider non-linear models, feature engineering to uncover non-linear relationships, or including additional data that could have stronger predictive power."
   ]
  },
  {
   "cell_type": "markdown",
   "id": "7d7b50bf",
   "metadata": {},
   "source": [
    "**category_name vs units (let's look at top 10 categories)**"
   ]
  },
  {
   "cell_type": "code",
   "execution_count": 25,
   "id": "aca2aa5e",
   "metadata": {},
   "outputs": [
    {
     "data": {
      "image/png": "[encoded data removed]",
      "text/plain": [
       "<Figure size 750x450 with 1 Axes>"
      ]
     },
     "metadata": {},
     "output_type": "display_data"
    }
   ],
   "source": [
    "# Filter the top 10 categories\n",
    "top_categories = df.groupby('category_name')['units'].sum().nlargest(10)\n",
    "\n",
    "# Calculate the total units\n",
    "total_units = df.units.sum()\n",
    "\n",
    "# Plotting\n",
    "plt.figure(figsize=(10, 6))\n",
    "ax = top_categories.plot(kind='bar', color='#1f77b4')  # Assuming you want the same blue color as before\n",
    "\n",
    "# Set y-axis formatter\n",
    "ax.yaxis.set_major_formatter(ticker.StrMethodFormatter('{x:,.0f}'))\n",
    "plt.title('Top 10 Categories by Percent of Total Units in Last Month')\n",
    "plt.xlabel('Category Name')\n",
    "plt.ylabel('Units')\n",
    "\n",
    "# Add labels to each bar as a percent of the total\n",
    "for i, value in enumerate(top_categories):\n",
    "    percent = (value / total_units) * 100  # Calculate the percentage\n",
    "    plt.text(i, value, f'{percent:.1f}%', ha='center', va='bottom')\n",
    "    \n",
    "plt.xticks(rotation=45, ha='right')  # Rotate category names for better visibility\n",
    "plt.tight_layout()  # Adjusts the plot to ensure everything fits without overlapping\n",
    "plt.show()"
   ]
  },
  {
   "cell_type": "markdown",
   "id": "14738c4e",
   "metadata": {},
   "source": [
    "- About 4 or 5 household items are in the top 10, as well as about 3 or 4 personal care items"
   ]
  },
  {
   "cell_type": "markdown",
   "id": "13691432",
   "metadata": {},
   "source": [
    "**Highest average price by category_name**"
   ]
  },
  {
   "cell_type": "code",
   "execution_count": 26,
   "id": "1bd6e1b5",
   "metadata": {},
   "outputs": [
    {
     "data": {
      "text/plain": [
       "category_name\n",
       "Computer Servers                 1534.22\n",
       "Computers & Tablets               544.38\n",
       "Smart Home: Home Entertainment    347.99\n",
       "Luggage Sets                      229.59\n",
       "Smart Home: Vacuums and Mops      221.13\n",
       "Smart Home - Heating & Cooling    220.46\n",
       "Computer Monitors                 219.81\n",
       "Computer External Components      163.55\n",
       "Video Projectors                  162.00\n",
       "Camera & Photo                    160.58\n",
       "Name: price, dtype: float64"
      ]
     },
     "execution_count": 26,
     "metadata": {},
     "output_type": "execute_result"
    }
   ],
   "source": [
    "# Calculate the average price for each category\n",
    "average_price_per_category = df.groupby('category_name')['price'].mean()  # or use .max() for maximum price\n",
    "average_price_per_category.sort_values(ascending=False).head(10)"
   ]
  },
  {
   "cell_type": "markdown",
   "id": "0c9d54c2",
   "metadata": {},
   "source": [
    "- Most are electronics products"
   ]
  },
  {
   "cell_type": "markdown",
   "id": "4cf72020",
   "metadata": {},
   "source": [
    "**Highest average star rating by category_name**"
   ]
  },
  {
   "cell_type": "code",
   "execution_count": 27,
   "id": "dbe059b8",
   "metadata": {},
   "outputs": [
    {
     "data": {
      "text/plain": [
       "category_name\n",
       "Gift Cards                          4.83\n",
       "Health & Household                  4.57\n",
       "Industrial & Scientific             4.55\n",
       "Household Supplies                  4.55\n",
       "Kitchen & Dining                    4.54\n",
       "Food Service Equipment & Supplies   4.52\n",
       "Electrical Equipment                4.52\n",
       "Power Tools & Hand Tools            4.50\n",
       "Sports & Outdoors                   4.50\n",
       "Electronic Components               4.49\n",
       "Name: stars, dtype: float64"
      ]
     },
     "execution_count": 27,
     "metadata": {},
     "output_type": "execute_result"
    }
   ],
   "source": [
    "# Calculate the average star rating for each category\n",
    "average_price_per_category = df.groupby('category_name')['stars'].mean() \n",
    "average_price_per_category.sort_values(ascending=False).head(10)"
   ]
  },
  {
   "cell_type": "markdown",
   "id": "d6b763ba",
   "metadata": {},
   "source": [
    "**is_best_seller vs units, stars, reviews**"
   ]
  },
  {
   "cell_type": "code",
   "execution_count": 28,
   "id": "5009545e",
   "metadata": {},
   "outputs": [
    {
     "data": {
      "text/html": [
       "<div>\n",
       "<style scoped>\n",
       "    .dataframe tbody tr th:only-of-type {\n",
       "        vertical-align: middle;\n",
       "    }\n",
       "\n",
       "    .dataframe tbody tr th {\n",
       "        vertical-align: top;\n",
       "    }\n",
       "\n",
       "    .dataframe thead th {\n",
       "        text-align: right;\n",
       "    }\n",
       "</style>\n",
       "<table border=\"1\" class=\"dataframe\">\n",
       "  <thead>\n",
       "    <tr style=\"text-align: right;\">\n",
       "      <th>is_best_seller</th>\n",
       "      <th>False</th>\n",
       "      <th>True</th>\n",
       "    </tr>\n",
       "  </thead>\n",
       "  <tbody>\n",
       "    <tr>\n",
       "      <th>units</th>\n",
       "      <td>90.22</td>\n",
       "      <td>9.78</td>\n",
       "    </tr>\n",
       "    <tr>\n",
       "      <th>stars</th>\n",
       "      <td>99.33</td>\n",
       "      <td>0.67</td>\n",
       "    </tr>\n",
       "    <tr>\n",
       "      <th>reviews</th>\n",
       "      <td>92.34</td>\n",
       "      <td>7.66</td>\n",
       "    </tr>\n",
       "  </tbody>\n",
       "</table>\n",
       "</div>"
      ],
      "text/plain": [
       "is_best_seller  False  True \n",
       "units           90.22   9.78\n",
       "stars           99.33   0.67\n",
       "reviews         92.34   7.66"
      ]
     },
     "execution_count": 28,
     "metadata": {},
     "output_type": "execute_result"
    }
   ],
   "source": [
    "# Calculate the sum of each group for the specified columns\n",
    "grouped_sum = df.groupby('is_best_seller')[['units', 'stars', 'reviews']].sum()\n",
    "\n",
    "# Calculate the sum of the entire DataFrame for the specified columns\n",
    "total_sum = df[['units', 'stars', 'reviews']].sum()\n",
    "\n",
    "# Divide the grouped sum by the total sum and multiply by 100 to get the percentage\n",
    "grouped_percentage = (grouped_sum / total_sum) * 100\n",
    "\n",
    "# Display the resulting DataFrame with percentages\n",
    "grouped_percentage.T"
   ]
  },
  {
   "cell_type": "markdown",
   "id": "4d6e430d",
   "metadata": {},
   "source": [
    "- 10% of units come from best sellers\n",
    "- Only 0.7% of best sellers have star ratings\n",
    "- 8% of best sellers have reviews"
   ]
  },
  {
   "cell_type": "markdown",
   "id": "db007ae7",
   "metadata": {},
   "source": [
    "**What are best selling categories (is_best_seller == True)?**"
   ]
  },
  {
   "cell_type": "code",
   "execution_count": 29,
   "id": "b8dee2bd",
   "metadata": {},
   "outputs": [
    {
     "data": {
      "text/html": [
       "<div>\n",
       "<style scoped>\n",
       "    .dataframe tbody tr th:only-of-type {\n",
       "        vertical-align: middle;\n",
       "    }\n",
       "\n",
       "    .dataframe tbody tr th {\n",
       "        vertical-align: top;\n",
       "    }\n",
       "\n",
       "    .dataframe thead th {\n",
       "        text-align: right;\n",
       "    }\n",
       "</style>\n",
       "<table border=\"1\" class=\"dataframe\">\n",
       "  <thead>\n",
       "    <tr style=\"text-align: right;\">\n",
       "      <th></th>\n",
       "      <th>count</th>\n",
       "      <th>units_sum</th>\n",
       "    </tr>\n",
       "    <tr>\n",
       "      <th>category_name</th>\n",
       "      <th></th>\n",
       "      <th></th>\n",
       "    </tr>\n",
       "  </thead>\n",
       "  <tbody>\n",
       "    <tr>\n",
       "      <th>Sports &amp; Fitness</th>\n",
       "      <td>483</td>\n",
       "      <td>593300</td>\n",
       "    </tr>\n",
       "    <tr>\n",
       "      <th>Industrial &amp; Scientific</th>\n",
       "      <td>404</td>\n",
       "      <td>1291600</td>\n",
       "    </tr>\n",
       "    <tr>\n",
       "      <th>Automotive Replacement Parts</th>\n",
       "      <td>368</td>\n",
       "      <td>217950</td>\n",
       "    </tr>\n",
       "    <tr>\n",
       "      <th>Kitchen &amp; Dining</th>\n",
       "      <td>279</td>\n",
       "      <td>1808000</td>\n",
       "    </tr>\n",
       "    <tr>\n",
       "      <th>Sports &amp; Outdoors</th>\n",
       "      <td>259</td>\n",
       "      <td>760750</td>\n",
       "    </tr>\n",
       "    <tr>\n",
       "      <th>Toys &amp; Games</th>\n",
       "      <td>240</td>\n",
       "      <td>659100</td>\n",
       "    </tr>\n",
       "    <tr>\n",
       "      <th>Tools &amp; Home Improvement</th>\n",
       "      <td>240</td>\n",
       "      <td>516400</td>\n",
       "    </tr>\n",
       "    <tr>\n",
       "      <th>Women's Clothing</th>\n",
       "      <td>164</td>\n",
       "      <td>287200</td>\n",
       "    </tr>\n",
       "    <tr>\n",
       "      <th>Outdoor Recreation</th>\n",
       "      <td>150</td>\n",
       "      <td>186500</td>\n",
       "    </tr>\n",
       "    <tr>\n",
       "      <th>Automotive Tools &amp; Equipment</th>\n",
       "      <td>149</td>\n",
       "      <td>265800</td>\n",
       "    </tr>\n",
       "    <tr>\n",
       "      <th>Girls' Clothing</th>\n",
       "      <td>140</td>\n",
       "      <td>52200</td>\n",
       "    </tr>\n",
       "    <tr>\n",
       "      <th>Home Décor Products</th>\n",
       "      <td>133</td>\n",
       "      <td>394600</td>\n",
       "    </tr>\n",
       "    <tr>\n",
       "      <th>Accessories &amp; Supplies</th>\n",
       "      <td>125</td>\n",
       "      <td>83900</td>\n",
       "    </tr>\n",
       "    <tr>\n",
       "      <th>Home Storage &amp; Organization</th>\n",
       "      <td>119</td>\n",
       "      <td>279500</td>\n",
       "    </tr>\n",
       "    <tr>\n",
       "      <th>Men's Clothing</th>\n",
       "      <td>117</td>\n",
       "      <td>113150</td>\n",
       "    </tr>\n",
       "    <tr>\n",
       "      <th>Lab &amp; Scientific Products</th>\n",
       "      <td>116</td>\n",
       "      <td>31600</td>\n",
       "    </tr>\n",
       "    <tr>\n",
       "      <th>Craft Supplies &amp; Materials</th>\n",
       "      <td>107</td>\n",
       "      <td>386650</td>\n",
       "    </tr>\n",
       "    <tr>\n",
       "      <th>Dog Supplies</th>\n",
       "      <td>105</td>\n",
       "      <td>257850</td>\n",
       "    </tr>\n",
       "    <tr>\n",
       "      <th>Boys' Clothing</th>\n",
       "      <td>101</td>\n",
       "      <td>36850</td>\n",
       "    </tr>\n",
       "    <tr>\n",
       "      <th>Computers</th>\n",
       "      <td>98</td>\n",
       "      <td>24100</td>\n",
       "    </tr>\n",
       "  </tbody>\n",
       "</table>\n",
       "</div>"
      ],
      "text/plain": [
       "                              count  units_sum\n",
       "category_name                                 \n",
       "Sports & Fitness                483     593300\n",
       "Industrial & Scientific         404    1291600\n",
       "Automotive Replacement Parts    368     217950\n",
       "Kitchen & Dining                279    1808000\n",
       "Sports & Outdoors               259     760750\n",
       "Toys & Games                    240     659100\n",
       "Tools & Home Improvement        240     516400\n",
       "Women's Clothing                164     287200\n",
       "Outdoor Recreation              150     186500\n",
       "Automotive Tools & Equipment    149     265800\n",
       "Girls' Clothing                 140      52200\n",
       "Home Décor Products             133     394600\n",
       "Accessories & Supplies          125      83900\n",
       "Home Storage & Organization     119     279500\n",
       "Men's Clothing                  117     113150\n",
       "Lab & Scientific Products       116      31600\n",
       "Craft Supplies & Materials      107     386650\n",
       "Dog Supplies                    105     257850\n",
       "Boys' Clothing                  101      36850\n",
       "Computers                        98      24100"
      ]
     },
     "execution_count": 29,
     "metadata": {},
     "output_type": "execute_result"
    }
   ],
   "source": [
    "# Filter the DataFrame to only include rows where 'is_best_seller' is True\n",
    "best_sellers = df[df['is_best_seller'] == True]\n",
    "\n",
    "# Group by 'category_name' and apply multiple aggregations: count and sum of units\n",
    "best_seller_aggregates = best_sellers.groupby('category_name').agg(\n",
    "    count=('category_name', 'size'),  # Count the occurrences\n",
    "    units_sum=('units', 'sum')       # Sum the units\n",
    ")\n",
    "\n",
    "# Sort by count in descending order and filter out categories with count of 1 or less\n",
    "best_seller_aggregates_sorted = best_seller_aggregates[best_seller_aggregates['count'] > 1].sort_values(by='count', ascending=False)\n",
    "\n",
    "# Display the top 20 results\n",
    "best_seller_aggregates_sorted.head(20)\n"
   ]
  },
  {
   "cell_type": "markdown",
   "id": "ed93dca4",
   "metadata": {},
   "source": [
    "**Are any of the top 10 categories by units not best sellers?**"
   ]
  },
  {
   "cell_type": "code",
   "execution_count": 30,
   "id": "434a069a",
   "metadata": {},
   "outputs": [
    {
     "data": {
      "text/plain": [
       "Series([], Name: category_name, dtype: object)"
      ]
     },
     "execution_count": 30,
     "metadata": {},
     "output_type": "execute_result"
    }
   ],
   "source": [
    "# Convert top_categories Series to a dataframe\n",
    "top_categories_df = top_categories.reset_index()\n",
    "\n",
    "# Get category_name filtered on best sellers\n",
    "best_seller_categories = df[df['is_best_seller'] == True]['category_name']\n",
    "\n",
    "# Display which top categories by units are not best sellers\n",
    "top_categories_df[~top_categories_df['category_name'].isin(best_seller_categories)]['category_name']"
   ]
  },
  {
   "cell_type": "markdown",
   "id": "962912e6",
   "metadata": {},
   "source": [
    "- No, all of top 10 categories by units are best sellers"
   ]
  },
  {
   "cell_type": "markdown",
   "id": "781d983f",
   "metadata": {},
   "source": [
    "### Save final dataframe as csv for subsequent notebook"
   ]
  },
  {
   "cell_type": "code",
   "execution_count": 31,
   "id": "4bb62586",
   "metadata": {},
   "outputs": [
    {
     "name": "stdout",
     "output_type": "stream",
     "text": [
      "DataFrame saved as '../data/eda_dataset.csv'.\n"
     ]
    }
   ],
   "source": [
    "# Save the final DataFrame after EDA\n",
    "final_df = df  \n",
    "\n",
    "# Specify the file name\n",
    "output_file_name = '../data/eda_dataset.csv' \n",
    "\n",
    "# Save to CSV\n",
    "final_df.to_csv(output_file_name, index=False)\n",
    "\n",
    "# Print a confirmation message\n",
    "print(f\"DataFrame saved as '{output_file_name}'.\")\n"
   ]
  },
  {
   "cell_type": "code",
   "execution_count": 32,
   "id": "6aed4941",
   "metadata": {},
   "outputs": [
    {
     "data": {
      "text/plain": [
       "0          sion softside expandable roller luggage, black...\n",
       "1          luggage sets expandable pc+abs durable suitcas...\n",
       "2          platinum elite softside expandable checked lug...\n",
       "3          freeform hardside expandable with double spinn...\n",
       "4          winfield 2 hardside expandable luggage with sp...\n",
       "                                 ...                        \n",
       "1426332    soundbox 0 gauge amp kit amplifier install wir...\n",
       "1426333    nextbase 622gw front and rear dash cam true 4k...\n",
       "1426334    newest wireless android auto car adapter for o...\n",
       "1426335    android 11 car radio for jeep wrangler 2011 20...\n",
       "1426336    red wolf radio wiring harness w/antenna adapte...\n",
       "Name: title, Length: 1426337, dtype: object"
      ]
     },
     "execution_count": 32,
     "metadata": {},
     "output_type": "execute_result"
    }
   ],
   "source": [
    "df.title.str.lower()"
   ]
  },
  {
   "cell_type": "code",
   "execution_count": 33,
   "id": "31bb3698",
   "metadata": {},
   "outputs": [
    {
     "name": "stdout",
     "output_type": "stream",
     "text": [
      "heres an example text with punctuation\n"
     ]
    }
   ],
   "source": [
    "import string\n",
    "\n",
    "def preprocess_text(text):\n",
    "    # Convert text to lowercase\n",
    "    text = text.lower()\n",
    "    # Remove punctuation\n",
    "    text = text.translate(str.maketrans('', '', string.punctuation))\n",
    "    return text\n",
    "\n",
    "# Example\n",
    "text = \"Here's an Example! Text, with Punctuation.\"\n",
    "processed_text = preprocess_text(text)\n",
    "print(processed_text)"
   ]
  },
  {
   "cell_type": "code",
   "execution_count": null,
   "id": "42c51347",
   "metadata": {},
   "outputs": [],
   "source": []
  }
 ],
 "metadata": {
  "kernelspec": {
   "display_name": "Python 3 (ipykernel)",
   "language": "python",
   "name": "python3"
  },
  "language_info": {
   "codemirror_mode": {
    "name": "ipython",
    "version": 3
   },
   "file_extension": ".py",
   "mimetype": "text/x-python",
   "name": "python",
   "nbconvert_exporter": "python",
   "pygments_lexer": "ipython3",
   "version": "3.11.5"
  }
 },
 "nbformat": 4,
 "nbformat_minor": 5
}
